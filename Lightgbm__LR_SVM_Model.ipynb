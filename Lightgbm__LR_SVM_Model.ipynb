{
 "cells": [
  {
   "cell_type": "markdown",
   "metadata": {
    "id": "6khSpKn5GVHp"
   },
   "source": [
    "# Big Data for Health (CSE6250) \n",
    "\n",
    "Goal: Using Lightgbm model to predict sepsis onset using MIMIC III Data\n",
    "\n",
    "Author: Zhensheng Wang\n",
    "         \n",
    "Created: 11/13/2021"
   ]
  },
  {
   "cell_type": "code",
   "execution_count": 1,
   "metadata": {
    "id": "Po1v3SZZGJbm"
   },
   "outputs": [],
   "source": [
    "import pandas as pd\n",
    "import matplotlib.pyplot as plt\n",
    "import numpy as np\n",
    "from sklearn.model_selection import StratifiedKFold\n",
    "from sklearn.ensemble import GradientBoostingClassifier\n",
    "from sklearn.preprocessing import LabelEncoder, MinMaxScaler\n",
    "from sklearn.metrics import roc_auc_score, f1_score\n",
    "from tableone import TableOne\n",
    "import lightgbm as lgbm\n",
    "from hyperopt import fmin, hp, tpe, STATUS_OK, Trials\n",
    "from hyperopt.pyll.base import scope\n",
    "from tableone import TableOne\n",
    "import matplotlib.pyplot as plt\n",
    "import warnings\n",
    "warnings.filterwarnings('ignore')\n",
    "\n",
    "import os, gc\n",
    "# os.environ[\"GOOGLE_APPLICATION_CREDENTIALS\"]= os.path.join(os.getcwd(), \"bdfh.json\")\n",
    "# from google.cloud import bigquery\n",
    "# bqclient = bigquery.Client()"
   ]
  },
  {
   "cell_type": "markdown",
   "metadata": {},
   "source": [
    "## Load Data"
   ]
  },
  {
   "cell_type": "code",
   "execution_count": 2,
   "metadata": {},
   "outputs": [],
   "source": [
    "case_labs = pd.read_csv('./data_v2/case_48h_labs_ex3h.csv')\n",
    "case_vitals = pd.read_csv('./data_v2/case_48h_vitals_ex3h.csv')\n",
    "case_static = pd.read_csv('./data_v2/static_variables_cases_ex3h.csv')\n",
    "\n",
    "control_labs = pd.read_csv('./data_v2/control_48h_labs_ex3h.csv')\n",
    "control_vitals = pd.read_csv('./data_v2/control_48h_vitals_ex3h.csv')\n",
    "control_static = pd.read_csv('./data_v2/static_variables_controls_ex3h.csv')"
   ]
  },
  {
   "cell_type": "markdown",
   "metadata": {},
   "source": [
    "## Helper function\n"
   ]
  },
  {
   "cell_type": "code",
   "execution_count": 3,
   "metadata": {},
   "outputs": [],
   "source": [
    "def race_recode(df):\n",
    "    cond_white = df['ethnicity'].str.contains('WHITE')\n",
    "    cond_black = df['ethnicity'].str.contains('BLACK')\n",
    "    cond_asian = df['ethnicity'].str.contains('ASIAN')\n",
    "    cond_hispa = df['ethnicity'].str.contains('HISPANIC')\n",
    "\n",
    "    df.loc[cond_white, 'ethnicity'] = 'WHITE'\n",
    "    df.loc[cond_black, 'ethnicity'] = 'BLACK'\n",
    "    df.loc[cond_asian, 'ethnicity'] = 'ASIAN'\n",
    "    df.loc[cond_hispa, 'ethnicity'] = 'HISPANIC'\n",
    "    df.loc[~(cond_white | cond_black | cond_asian | cond_hispa), 'ethnicity'] = 'OTHER'\n",
    "    \n",
    "    df['ethnicity'] = df['ethnicity'].apply(lambda x: x[0] + x[1:].lower())\n",
    "    return df"
   ]
  },
  {
   "cell_type": "markdown",
   "metadata": {},
   "source": [
    "## Table1"
   ]
  },
  {
   "cell_type": "code",
   "execution_count": 4,
   "metadata": {},
   "outputs": [],
   "source": [
    "\n",
    "t1_case = case_static.sort_values(['subject_id', 'admission_age']).drop_duplicates('subject_id')[['gender', 'ethnicity', 'admission_age', 'subject_id']]\n",
    "t1_case = t1_case[t1_case.subject_id.isin(case_vitals.subject_id) & t1_case.subject_id.isin(case_labs.subject_id)]\n",
    "t1_case.loc[:, 'gender'] = t1_case['gender'].apply(lambda x: 'Female' if x == 'F' else 'Male')\n",
    "t1_case = race_recode(t1_case)\n",
    "t1_case['Sepsis'] = 'Yes'\n",
    "\n",
    "t1_control = control_static.sort_values(['subject_id', 'admission_age']).drop_duplicates('subject_id')[['gender', 'ethnicity', 'admission_age', 'subject_id']]\n",
    "t1_control = t1_control[t1_control.subject_id.isin(control_vitals.subject_id) & t1_control.subject_id.isin(control_labs.subject_id)]\n",
    "\n",
    "t1_control.loc[:, 'gender'] = t1_control['gender'].apply(lambda x: 'Female' if x == 'F' else 'Male')\n",
    "t1_control = race_recode(t1_control)\n",
    "t1_control['Sepsis'] = 'No'\n",
    "\n",
    "t1 = pd.concat((t1_case, t1_control), ignore_index=True).drop_duplicates('subject_id')\n",
    "\n",
    "order = {\n",
    "    'ETHNICITY': ['White', 'Black', 'Hispanic', 'Asian', 'Other']\n",
    "}\n",
    "\n",
    "label = {\n",
    "    'admission_age': 'Age (yrs) at first admission',\n",
    "    # 'los': 'Length of stay (days)',\n",
    "    'ethnicity': 'Race/Ethnicity',\n",
    "    # 'MARITAL_STATUS': 'Marital status',\n",
    "    'gender': 'Gender',\n",
    "    # 'INSURANCE': 'Insurance'\n",
    "}\n",
    "\n",
    "t1_pivot = TableOne(\n",
    "    t1, \n",
    "    columns=['gender', 'ethnicity', 'admission_age'], \n",
    "    categorical=['gender', 'ethnicity'],\n",
    "    nonnormal = ['admission_age'],  \n",
    "    groupby = 'Sepsis', \n",
    "    limit = 6, \n",
    "    order = order,\n",
    "    pval = True,\n",
    "    missing = False,\n",
    "    rename = label)"
   ]
  },
  {
   "cell_type": "code",
   "execution_count": 35,
   "metadata": {},
   "outputs": [
    {
     "data": {
      "text/html": [
       "<div>\n",
       "<style scoped>\n",
       "    .dataframe tbody tr th:only-of-type {\n",
       "        vertical-align: middle;\n",
       "    }\n",
       "\n",
       "    .dataframe tbody tr th {\n",
       "        vertical-align: top;\n",
       "    }\n",
       "\n",
       "    .dataframe thead tr th {\n",
       "        text-align: left;\n",
       "    }\n",
       "</style>\n",
       "<table border=\"1\" class=\"dataframe\">\n",
       "  <thead>\n",
       "    <tr>\n",
       "      <th></th>\n",
       "      <th></th>\n",
       "      <th colspan=\"4\" halign=\"left\">Grouped by Sepsis</th>\n",
       "    </tr>\n",
       "    <tr>\n",
       "      <th></th>\n",
       "      <th></th>\n",
       "      <th>Overall</th>\n",
       "      <th>No</th>\n",
       "      <th>Yes</th>\n",
       "      <th>P-Value</th>\n",
       "    </tr>\n",
       "  </thead>\n",
       "  <tbody>\n",
       "    <tr>\n",
       "      <th>n</th>\n",
       "      <th></th>\n",
       "      <td>4953</td>\n",
       "      <td>4357</td>\n",
       "      <td>596</td>\n",
       "      <td></td>\n",
       "    </tr>\n",
       "    <tr>\n",
       "      <th rowspan=\"2\" valign=\"top\">Gender, n (%)</th>\n",
       "      <th>Female</th>\n",
       "      <td>2187 (44.2)</td>\n",
       "      <td>1902 (43.7)</td>\n",
       "      <td>285 (47.8)</td>\n",
       "      <td>0.061</td>\n",
       "    </tr>\n",
       "    <tr>\n",
       "      <th>Male</th>\n",
       "      <td>2766 (55.8)</td>\n",
       "      <td>2455 (56.3)</td>\n",
       "      <td>311 (52.2)</td>\n",
       "      <td></td>\n",
       "    </tr>\n",
       "    <tr>\n",
       "      <th rowspan=\"5\" valign=\"top\">Race/Ethnicity, n (%)</th>\n",
       "      <th>Asian</th>\n",
       "      <td>131 (2.6)</td>\n",
       "      <td>111 (2.5)</td>\n",
       "      <td>20 (3.4)</td>\n",
       "      <td>0.163</td>\n",
       "    </tr>\n",
       "    <tr>\n",
       "      <th>Black</th>\n",
       "      <td>470 (9.5)</td>\n",
       "      <td>403 (9.2)</td>\n",
       "      <td>67 (11.2)</td>\n",
       "      <td></td>\n",
       "    </tr>\n",
       "    <tr>\n",
       "      <th>Hispanic</th>\n",
       "      <td>181 (3.7)</td>\n",
       "      <td>153 (3.5)</td>\n",
       "      <td>28 (4.7)</td>\n",
       "      <td></td>\n",
       "    </tr>\n",
       "    <tr>\n",
       "      <th>Other</th>\n",
       "      <td>506 (10.2)</td>\n",
       "      <td>449 (10.3)</td>\n",
       "      <td>57 (9.6)</td>\n",
       "      <td></td>\n",
       "    </tr>\n",
       "    <tr>\n",
       "      <th>White</th>\n",
       "      <td>3665 (74.0)</td>\n",
       "      <td>3241 (74.4)</td>\n",
       "      <td>424 (71.1)</td>\n",
       "      <td></td>\n",
       "    </tr>\n",
       "    <tr>\n",
       "      <th>Age (yrs) at first admission, median [Q1,Q3]</th>\n",
       "      <th></th>\n",
       "      <td>66.1 [53.7,77.6]</td>\n",
       "      <td>66.2 [53.8,77.6]</td>\n",
       "      <td>65.3 [52.6,77.6]</td>\n",
       "      <td>0.460</td>\n",
       "    </tr>\n",
       "  </tbody>\n",
       "</table>\n",
       "</div><br />"
      ],
      "text/plain": [
       "                                                      Grouped by Sepsis                                            \n",
       "                                                                Overall                No               Yes P-Value\n",
       "n                                                                  4953              4357               596        \n",
       "Gender, n (%)                                Female         2187 (44.2)       1902 (43.7)        285 (47.8)   0.061\n",
       "                                             Male           2766 (55.8)       2455 (56.3)        311 (52.2)        \n",
       "Race/Ethnicity, n (%)                        Asian            131 (2.6)         111 (2.5)          20 (3.4)   0.163\n",
       "                                             Black            470 (9.5)         403 (9.2)         67 (11.2)        \n",
       "                                             Hispanic         181 (3.7)         153 (3.5)          28 (4.7)        \n",
       "                                             Other           506 (10.2)        449 (10.3)          57 (9.6)        \n",
       "                                             White          3665 (74.0)       3241 (74.4)        424 (71.1)        \n",
       "Age (yrs) at first admission, median [Q1,Q3]           66.1 [53.7,77.6]  66.2 [53.8,77.6]  65.3 [52.6,77.6]   0.460"
      ]
     },
     "execution_count": 35,
     "metadata": {},
     "output_type": "execute_result"
    }
   ],
   "source": [
    "t1_pivot.to_csv('t1_pivot.csv')\n",
    "t1_pivot"
   ]
  },
  {
   "cell_type": "markdown",
   "metadata": {},
   "source": [
    "## Clean data"
   ]
  },
  {
   "cell_type": "code",
   "execution_count": 5,
   "metadata": {},
   "outputs": [],
   "source": [
    "case_labs = case_labs.drop(columns=['chart_time', 'icustay_id', 'sepsis_onset', 'hr_feature'])\n",
    "apply_dict = {col: ['mean', 'median', 'std'] for col in case_labs.columns if col != 'subject_id'}\n",
    "case_labs = case_labs.groupby('subject_id').agg(apply_dict)\n",
    "#case_labs = case_labs.fillna(case_labs.median())\n",
    "case_labs.columns = ['_'.join(col) for col in case_labs.columns]\n",
    "\n",
    "case_static = case_static[['gender', 'ethnicity', 'admission_age', 'subject_id']]\n",
    "case_static['label'] = 1\n",
    "case_static = race_recode(case_static)\n",
    "case_static['ethnicity'] = LabelEncoder().fit_transform(case_static['ethnicity'])\n",
    "case_static['gender'] = LabelEncoder().fit_transform(case_static['gender'])\n",
    "\n",
    "case_vitals = case_vitals.drop(columns=['chart_time', 'icustay_id', 'sepsis_onset', 'hr_feature'])\n",
    "apply_dict = {col: ['mean', 'median', 'std'] for col in case_vitals.columns if col != 'subject_id'}\n",
    "case_vitals = case_vitals.groupby('subject_id').agg(apply_dict)\n",
    "#case_vitals = case_vitals.fillna(case_vitals.median())\n",
    "case_vitals.columns = ['_'.join(col) for col in case_vitals.columns]\n",
    "\n",
    "case_all = case_static.merge(case_labs, on='subject_id').merge(case_vitals, on='subject_id')\n",
    "\n",
    "\n",
    "control_labs = control_labs.drop(columns=['chart_time', 'icustay_id', 'control_onset_time', 'hr_feature'])\n",
    "apply_dict = {col: ['mean', 'median', 'std'] for col in control_labs.columns if col != 'subject_id'}\n",
    "control_labs = control_labs.groupby('subject_id').agg(apply_dict)\n",
    "#control_labs = control_labs.fillna(control_labs.median())\n",
    "control_labs.columns = ['_'.join(col) for col in control_labs.columns]\n",
    "\n",
    "control_static = control_static[['gender', 'ethnicity', 'admission_age', 'subject_id']]\n",
    "control_static['label'] = 0\n",
    "control_static = race_recode(control_static)\n",
    "control_static['ethnicity'] = LabelEncoder().fit_transform(control_static['ethnicity'])\n",
    "control_static['gender'] = LabelEncoder().fit_transform(control_static['gender'])\n",
    "\n",
    "control_vitals = control_vitals.drop(columns=['chart_time', 'icustay_id', 'control_onset_time', 'hr_feature'])\n",
    "apply_dict = {col: ['mean', 'median', 'std'] for col in control_vitals.columns if col != 'subject_id'}\n",
    "control_vitals = control_vitals.groupby('subject_id').agg(apply_dict)\n",
    "#control_vitals = control_vitals.fillna(control_vitals.median())\n",
    "control_vitals.columns = ['_'.join(col) for col in control_vitals.columns]\n",
    "\n",
    "control_all = control_static.merge(control_labs, on='subject_id').merge(control_vitals, on='subject_id')\n",
    "\n"
   ]
  },
  {
   "cell_type": "code",
   "execution_count": 6,
   "metadata": {},
   "outputs": [],
   "source": [
    "# Added case_control_all.fillna(case_control_all.median())\n",
    "case_control_all = pd.concat((case_all, control_all), ignore_index=True)#.sample(frac=1).reset_index(drop=True)\n",
    "case_control_all = case_control_all.fillna(case_control_all.median()).sample(frac=1).reset_index(drop=True)\n",
    "\n",
    "X, y = case_control_all.drop(columns=['subject_id', 'label']), case_control_all.label\n",
    "X = MinMaxScaler().fit_transform(X)"
   ]
  },
  {
   "cell_type": "markdown",
   "metadata": {},
   "source": [
    "## Model training and prediction - LR / SVM"
   ]
  },
  {
   "cell_type": "code",
   "execution_count": 22,
   "metadata": {},
   "outputs": [
    {
     "name": "stdout",
     "output_type": "stream",
     "text": [
      "0    5041\n",
      "1     616\n",
      "Name: label, dtype: int64\n",
      "Number of features included: 135\n",
      "Number of observations: 5657\n",
      "\n",
      "LR Model AUC: 0.6726181484950102\n",
      "SVM Model AUC: 0.6769835755213841\n",
      "\n"
     ]
    },
    {
     "data": {
      "image/png": "[encoded data removed]",
      "text/plain": [
       "<Figure size 432x288 with 1 Axes>"
      ]
     },
     "metadata": {
      "needs_background": "light"
     },
     "output_type": "display_data"
    }
   ],
   "source": [
    "from sklearn.linear_model import LogisticRegression\n",
    "from sklearn.svm import LinearSVC, SVC\n",
    "from sklearn.calibration import CalibratedClassifierCV\n",
    "from sklearn.metrics import *\n",
    "from sklearn.model_selection import train_test_split\n",
    "import matplotlib.pyplot as plt\n",
    "\n",
    "print(y.value_counts())\n",
    "print(f\"Number of features included: {X.shape[1]}\")\n",
    "print(f\"Number of observations: {X.shape[0]}\\n\")\n",
    "    \n",
    "def sigmoid(x):\n",
    "    ex = np.exp(x)\n",
    "    return ex / (1 + ex)\n",
    "\n",
    "x_train, x_test, y_train, y_test = train_test_split(X, y, test_size=0.25, random_state=0)\n",
    "logistic_regression = LogisticRegression()\n",
    "logistic_regression.fit(x_train, y_train)\n",
    "\n",
    "y_pred = sigmoid(logistic_regression.predict_proba(x_test))[:,1]\n",
    "lr_auc = roc_auc_score(y_test, y_pred)\n",
    "print('LR Model AUC: {}'.format(lr_auc))\n",
    "fpr, tpr, thresholds = roc_curve(y_test, y_pred)\n",
    "plt.plot(fpr,tpr,label=\"Logistic Regression, auc={:.4f}\".format(lr_auc))\n",
    "\n",
    "\n",
    "svm = LinearSVC()\n",
    "#svm = SVC(kernel='rbf')\n",
    "clf = CalibratedClassifierCV(svm) \n",
    "clf.fit(x_train, y_train)\n",
    "y_pred = clf.predict_proba(x_test)[:,1]\n",
    "\n",
    "svm_auc = roc_auc_score(y_test, y_pred)\n",
    "print('SVM Model AUC: {}\\n'.format(svm_auc))\n",
    "fpr, tpr, thresholds = roc_curve(y_test, y_pred)\n",
    "plt.plot(fpr,tpr,label=\"SVM, auc={:.4f}\".format(svm_auc))\n",
    "plt.legend(loc=4)\n",
    "plt.show() \n",
    "\n",
    "\n"
   ]
  },
  {
   "cell_type": "markdown",
   "metadata": {},
   "source": [
    "## Lightgbm CV"
   ]
  },
  {
   "cell_type": "code",
   "execution_count": 21,
   "metadata": {},
   "outputs": [],
   "source": [
    "# def lgb_f1_score(y_hat, data):\n",
    "#     y_true = data.get_label()\n",
    "#     y_hat = np.round(y_hat) # scikits f1 doesn't like probabilities\n",
    "#     return 'f1', f1_score(y_true, y_hat), True"
   ]
  },
  {
   "cell_type": "code",
   "execution_count": 33,
   "metadata": {},
   "outputs": [],
   "source": [
    "lgbm_param = {\n",
    "        'num_leaves': scope.int(hp.quniform('num_leaves', 2, 21, 1)), # hp.choice('num_leaves', np.arange(2, 21)),\n",
    "        'learning_rate': hp.uniform('learning_rate', 0.005, 0.1),\n",
    "        'feature_fraction': hp.uniform('feature_fraction', 0.01, 0.8),\n",
    "        'max_depth': scope.int(hp.quniform('max_depth', 2, 11, 1)), #hp.choice('max_depth', np.arange(2, 11)),\n",
    "        'objective': 'binary',\n",
    "        # 'boosting_type': 'dart',\n",
    "        'metric': 'auc',\n",
    "        'verbose': -1,\n",
    "        # 'device_type': 'gpu'\n",
    "    }\n",
    "\n",
    "def f_lgbm(params):\n",
    "    tr_data = lgbm.Dataset(X, y)\n",
    "    res = lgbm.cv(params, tr_data, num_boost_round=1000, early_stopping_rounds=100, seed=42, return_cvbooster=True)\n",
    "    return {\n",
    "        'loss': -np.mean(res['auc-mean']).round(5), \n",
    "        'status': STATUS_OK,\n",
    "        'boosters': res['cvbooster'].boosters, \n",
    "        'auc-mean': res['auc-mean'],\n",
    "        'auc-std': res['auc-stdv']\n",
    "    }"
   ]
  },
  {
   "cell_type": "code",
   "execution_count": 34,
   "metadata": {},
   "outputs": [
    {
     "name": "stdout",
     "output_type": "stream",
     "text": [
      "100%|██████████| 50/50 [01:40<00:00,  2.01s/trial, best loss: -0.76494]\n"
     ]
    }
   ],
   "source": [
    "trials = Trials()\n",
    "lgbm_best = fmin(f_lgbm, lgbm_param, algo=tpe.suggest, rstate=np.random.RandomState(42), max_evals=50, trials=trials)"
   ]
  },
  {
   "cell_type": "code",
   "execution_count": 18,
   "metadata": {},
   "outputs": [
    {
     "data": {
      "text/plain": [
       "{'feature_fraction': 0.2053922909202318,\n",
       " 'learning_rate': 0.013791375580212269,\n",
       " 'max_depth': 10.0,\n",
       " 'num_leaves': 21.0}"
      ]
     },
     "execution_count": 18,
     "metadata": {},
     "output_type": "execute_result"
    }
   ],
   "source": [
    "lgbm_best"
   ]
  },
  {
   "cell_type": "code",
   "execution_count": 57,
   "metadata": {},
   "outputs": [
    {
     "data": {
      "image/png": "[encoded data removed]",
      "text/plain": [
       "<Figure size 432x288 with 1 Axes>"
      ]
     },
     "metadata": {
      "needs_background": "light"
     },
     "output_type": "display_data"
    }
   ],
   "source": [
    "train_auc_df = pd.DataFrame(dict(auc =trials.best_trial['result']['auc-mean'], std=trials.best_trial['result']['auc-std']))\n",
    "train_auc_df['auc_l'] = train_auc_df['auc'] - 1.96 * train_auc_df['std']\n",
    "train_auc_df['auc_h'] = train_auc_df['auc'] + 1.96 * train_auc_df['std']\n",
    "\n",
    "plt.plot(train_auc_df['auc'], 'k-', label='Mean auc')\n",
    "plt.plot(train_auc_df['auc_l'], '--', color='gray', label='95% CI bound')\n",
    "plt.plot(train_auc_df['auc_h'], '--', color='gray')\n",
    "plt.xlabel('Boosting Round')\n",
    "plt.ylabel('AUC')\n",
    "plt.legend()\n",
    "# plt.title('AUC Curve on 5-fold cross validation lightgbm model')\n",
    "plt.savefig('lightgbm-auc.jpg')"
   ]
  },
  {
   "cell_type": "code",
   "execution_count": 18,
   "metadata": {},
   "outputs": [],
   "source": [
    "# dir(res['cvbooster'])\n",
    "feature_imp = np.zeros((X.shape[1]))\n",
    "for booster in trials.best_trial['result']['boosters']:\n",
    "    feature_imp += booster.feature_importance() / 5\n",
    "    "
   ]
  },
  {
   "cell_type": "code",
   "execution_count": 19,
   "metadata": {},
   "outputs": [
    {
     "data": {
      "text/html": [
       "<div>\n",
       "<style scoped>\n",
       "    .dataframe tbody tr th:only-of-type {\n",
       "        vertical-align: middle;\n",
       "    }\n",
       "\n",
       "    .dataframe tbody tr th {\n",
       "        vertical-align: top;\n",
       "    }\n",
       "\n",
       "    .dataframe thead th {\n",
       "        text-align: right;\n",
       "    }\n",
       "</style>\n",
       "<table border=\"1\" class=\"dataframe\">\n",
       "  <thead>\n",
       "    <tr style=\"text-align: right;\">\n",
       "      <th></th>\n",
       "      <th>cols</th>\n",
       "      <th>feature_importance</th>\n",
       "    </tr>\n",
       "  </thead>\n",
       "  <tbody>\n",
       "    <tr>\n",
       "      <th>0</th>\n",
       "      <td>TempC_std</td>\n",
       "      <td>145.2</td>\n",
       "    </tr>\n",
       "    <tr>\n",
       "      <th>1</th>\n",
       "      <td>DiaBP_std</td>\n",
       "      <td>129.2</td>\n",
       "    </tr>\n",
       "    <tr>\n",
       "      <th>2</th>\n",
       "      <td>HeartRate_std</td>\n",
       "      <td>124.8</td>\n",
       "    </tr>\n",
       "    <tr>\n",
       "      <th>3</th>\n",
       "      <td>RespRate_std</td>\n",
       "      <td>116.6</td>\n",
       "    </tr>\n",
       "    <tr>\n",
       "      <th>4</th>\n",
       "      <td>SysBP_std</td>\n",
       "      <td>114.2</td>\n",
       "    </tr>\n",
       "    <tr>\n",
       "      <th>5</th>\n",
       "      <td>WBC_std</td>\n",
       "      <td>114.0</td>\n",
       "    </tr>\n",
       "    <tr>\n",
       "      <th>6</th>\n",
       "      <td>PLATELET_mean</td>\n",
       "      <td>109.2</td>\n",
       "    </tr>\n",
       "    <tr>\n",
       "      <th>7</th>\n",
       "      <td>PLATELET_std</td>\n",
       "      <td>106.2</td>\n",
       "    </tr>\n",
       "    <tr>\n",
       "      <th>8</th>\n",
       "      <td>RespRate_mean</td>\n",
       "      <td>105.8</td>\n",
       "    </tr>\n",
       "    <tr>\n",
       "      <th>9</th>\n",
       "      <td>TempC_mean</td>\n",
       "      <td>103.4</td>\n",
       "    </tr>\n",
       "  </tbody>\n",
       "</table>\n",
       "</div>"
      ],
      "text/plain": [
       "            cols  feature_importance\n",
       "0      TempC_std               145.2\n",
       "1      DiaBP_std               129.2\n",
       "2  HeartRate_std               124.8\n",
       "3   RespRate_std               116.6\n",
       "4      SysBP_std               114.2\n",
       "5        WBC_std               114.0\n",
       "6  PLATELET_mean               109.2\n",
       "7   PLATELET_std               106.2\n",
       "8  RespRate_mean               105.8\n",
       "9     TempC_mean               103.4"
      ]
     },
     "execution_count": 19,
     "metadata": {},
     "output_type": "execute_result"
    }
   ],
   "source": [
    "feature_imp = pd.DataFrame(dict(cols = case_control_all.drop(columns=['subject_id', 'label']).columns, feature_importance = feature_imp)). \\\n",
    "    sort_values('feature_importance', ascending=False, ignore_index=True).head(10)\n",
    "feature_imp.to_latex('feature_imp.tex', index=False)\n",
    "feature_imp"
   ]
  }
 ],
 "metadata": {
  "colab": {
   "name": "Sepsis_Project.ipynb",
   "provenance": []
  },
  "interpreter": {
   "hash": "f369dc3251b2e69878e695b69c2217bf34a409687e724799b0e3fed989cd45f1"
  },
  "kernelspec": {
   "display_name": "Python 3 (ipykernel)",
   "language": "python",
   "name": "python3"
  },
  "language_info": {
   "codemirror_mode": {
    "name": "ipython",
    "version": 3
   },
   "file_extension": ".py",
   "mimetype": "text/x-python",
   "name": "python",
   "nbconvert_exporter": "python",
   "pygments_lexer": "ipython3",
   "version": "3.7.6"
  }
 },
 "nbformat": 4,
 "nbformat_minor": 1
}
