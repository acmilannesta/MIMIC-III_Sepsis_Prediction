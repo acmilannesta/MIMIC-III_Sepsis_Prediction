{
 "cells": [
  {
   "cell_type": "markdown",
   "metadata": {
    "id": "6khSpKn5GVHp"
   },
   "source": [
    "# Big Data for Health (CSE6250) \n",
    "\n",
    "Goal: Using Lightgbm model to predict sepsis onset using MIMIC III Data\n",
    "\n",
    "Author: Zhensheng Wang\n",
    "         \n",
    "Created: 11/13/2021"
   ]
  },
  {
   "cell_type": "code",
   "execution_count": 1,
   "metadata": {
    "id": "Po1v3SZZGJbm"
   },
   "outputs": [],
   "source": [
    "import pandas as pd\n",
    "import matplotlib.pyplot as plt\n",
    "import matplotlib.image as mpimg\n",
    "import numpy as np\n",
    "from sklearn.model_selection import StratifiedKFold, train_test_split\n",
    "from sklearn.ensemble import GradientBoostingClassifier\n",
    "from sklearn.preprocessing import LabelEncoder, MinMaxScaler, StandardScaler\n",
    "from sklearn.metrics import roc_auc_score, f1_score\n",
    "from tableone import TableOne\n",
    "import lightgbm as lgbm\n",
    "from hyperopt import fmin, hp, tpe, STATUS_OK, Trials\n",
    "from hyperopt.pyll.base import scope\n",
    "from tableone import TableOne\n",
    "import warnings\n",
    "from Python.model_data import model_data\n",
    "from Python.utils import classification_metrics, plot_roc_prc\n",
    "warnings.filterwarnings('ignore')\n",
    "# from imblearn.over_sampling import RandomOverSampler\n",
    "\n",
    "import os, gc\n",
    "# os.environ[\"GOOGLE_APPLICATION_CREDENTIALS\"]= os.path.join(os.getcwd(), \"bdfh.json\")\n",
    "# from google.cloud import bigquery\n",
    "# bqclient = bigquery.Client()"
   ]
  },
  {
   "cell_type": "code",
   "execution_count": 17,
   "metadata": {},
   "outputs": [],
   "source": [
    "model = lgbm.Booster(model_file=\"output/lgbm_fold1.txt\")"
   ]
  },
  {
   "cell_type": "code",
   "execution_count": 18,
   "metadata": {},
   "outputs": [
    {
     "data": {
      "text/plain": [
       "{}"
      ]
     },
     "execution_count": 18,
     "metadata": {},
     "output_type": "execute_result"
    }
   ],
   "source": [
    "model.params"
   ]
  },
  {
   "cell_type": "markdown",
   "metadata": {},
   "source": [
    "## Parameter setting"
   ]
  },
  {
   "cell_type": "code",
   "execution_count": 19,
   "metadata": {},
   "outputs": [],
   "source": [
    "DATA_DIR = 'data_ultimate_final'\n",
    "SEED = 42\n",
    "MAX_EVAL = 50\n",
    "TEST_SIZE = 0.1"
   ]
  },
  {
   "cell_type": "markdown",
   "metadata": {},
   "source": [
    "## Load Data"
   ]
  },
  {
   "cell_type": "code",
   "execution_count": 6,
   "metadata": {},
   "outputs": [],
   "source": [
    "\n",
    "case_labs = pd.read_csv(os.path.join(DATA_DIR, 'case_48h_labs_ex3h.csv'))\n",
    "case_vitals = pd.read_csv(os.path.join(DATA_DIR, 'case_48h_vitals_ex3h.csv'))\n",
    "case_static = pd.read_csv(os.path.join(DATA_DIR, 'static_variables_cases_ex3h.csv'))\n",
    "\n",
    "control_labs = pd.read_csv(os.path.join(DATA_DIR, 'control_48h_labs_ex3h.csv'))\n",
    "control_vitals = pd.read_csv(os.path.join(DATA_DIR, 'control_48h_vitals_ex3h.csv'))\n",
    "control_static = pd.read_csv(os.path.join(DATA_DIR, 'static_variables_controls_ex3h.csv'))\n",
    "\n",
    "# df_train, df_test = model_data(model_type=\"LGBM\", test_size=.2)\n"
   ]
  },
  {
   "cell_type": "markdown",
   "metadata": {},
   "source": [
    "## Helper function\n"
   ]
  },
  {
   "cell_type": "code",
   "execution_count": null,
   "metadata": {},
   "outputs": [],
   "source": [
    "def race_recode(df):\n",
    "    cond_white = df['ethnicity'].str.contains('WHITE')\n",
    "    cond_black = df['ethnicity'].str.contains('BLACK')\n",
    "    cond_asian = df['ethnicity'].str.contains('ASIAN')\n",
    "    cond_hispa = df['ethnicity'].str.contains('HISPANIC')\n",
    "\n",
    "    df.loc[cond_white, 'ethnicity'] = 'WHITE'\n",
    "    df.loc[cond_black, 'ethnicity'] = 'BLACK'\n",
    "    df.loc[cond_asian, 'ethnicity'] = 'ASIAN'\n",
    "    df.loc[cond_hispa, 'ethnicity'] = 'HISPANIC'\n",
    "    df.loc[~(cond_white | cond_black | cond_asian | cond_hispa), 'ethnicity'] = 'OTHER'\n",
    "    \n",
    "    df['ethnicity'] = df['ethnicity'].apply(lambda x: x[0] + x[1:].lower())\n",
    "    return df"
   ]
  },
  {
   "cell_type": "markdown",
   "metadata": {},
   "source": [
    "## Table1"
   ]
  },
  {
   "cell_type": "code",
   "execution_count": null,
   "metadata": {},
   "outputs": [],
   "source": [
    "\n",
    "t1_case = case_static.sort_values(['subject_id', 'admission_age']).drop_duplicates('subject_id')[['gender', 'ethnicity', 'admission_age', 'subject_id']]\n",
    "t1_case = t1_case[t1_case.subject_id.isin(case_vitals.subject_id) & t1_case.subject_id.isin(case_labs.subject_id)]\n",
    "t1_case.loc[:, 'gender'] = t1_case['gender'].apply(lambda x: 'Female' if x == 'F' else 'Male')\n",
    "t1_case = race_recode(t1_case)\n",
    "t1_case['Sepsis'] = 'Yes'\n",
    "\n",
    "t1_control = control_static.sort_values(['subject_id', 'admission_age']).drop_duplicates('subject_id')[['gender', 'ethnicity', 'admission_age', 'subject_id']]\n",
    "t1_control = t1_control[t1_control.subject_id.isin(control_vitals.subject_id) & t1_control.subject_id.isin(control_labs.subject_id)]\n",
    "\n",
    "t1_control.loc[:, 'gender'] = t1_control['gender'].apply(lambda x: 'Female' if x == 'F' else 'Male')\n",
    "t1_control = race_recode(t1_control)\n",
    "t1_control['Sepsis'] = 'No'\n",
    "\n",
    "t1 = pd.concat((t1_case, t1_control), ignore_index=True).drop_duplicates('subject_id')\n",
    "\n",
    "order = {\n",
    "    'ETHNICITY': ['White', 'Black', 'Hispanic', 'Asian', 'Other']\n",
    "}\n",
    "\n",
    "label = {\n",
    "    'admission_age': 'Age (yrs) at first admission',\n",
    "    # 'los': 'Length of stay (days)',\n",
    "    'ethnicity': 'Race/Ethnicity',\n",
    "    # 'MARITAL_STATUS': 'Marital status',\n",
    "    'gender': 'Gender',\n",
    "    # 'INSURANCE': 'Insurance'\n",
    "}\n",
    "\n",
    "t1_pivot = TableOne(\n",
    "    t1, \n",
    "    columns=['gender', 'ethnicity', 'admission_age'], \n",
    "    categorical=['gender', 'ethnicity'],\n",
    "    nonnormal = ['admission_age'],  \n",
    "    groupby = 'Sepsis', \n",
    "    limit = 6, \n",
    "    order = order,\n",
    "    pval = True,\n",
    "    missing = False,\n",
    "    rename = label)"
   ]
  },
  {
   "cell_type": "code",
   "execution_count": null,
   "metadata": {},
   "outputs": [],
   "source": [
    "t1_pivot.to_csv('t1_pivot.csv')\n",
    "t1_pivot"
   ]
  },
  {
   "cell_type": "markdown",
   "metadata": {},
   "source": [
    "## Clean data"
   ]
  },
  {
   "cell_type": "code",
   "execution_count": null,
   "metadata": {},
   "outputs": [],
   "source": [
    "# case_labs = case_labs.drop(columns=['chart_time', 'icustay_id', 'sepsis_onset', 'hr_feature'])\n",
    "# apply_dict = {col: ['mean', 'median', 'std'] for col in case_labs.columns if col != 'subject_id'}\n",
    "# case_labs = case_labs.groupby('subject_id').agg(apply_dict)\n",
    "# # case_labs = case_labs.fillna(case_labs.median())\n",
    "# case_labs.columns = ['_'.join(col) for col in case_labs.columns]\n",
    "\n",
    "# case_static = case_static[['gender', 'ethnicity', 'admission_age', 'subject_id']]\n",
    "# case_static['label'] = 1\n",
    "# case_static = race_recode(case_static)\n",
    "# case_static['ethnicity'] = LabelEncoder().fit_transform(case_static['ethnicity'])\n",
    "# case_static['gender'] = LabelEncoder().fit_transform(case_static['gender'])\n",
    "\n",
    "# case_vitals = case_vitals.drop(columns=['chart_time', 'icustay_id', 'sepsis_onset', 'hr_feature'])\n",
    "# apply_dict = {col: ['mean', 'median', 'std'] for col in case_vitals.columns if col != 'subject_id'}\n",
    "# case_vitals = case_vitals.groupby('subject_id').agg(apply_dict)\n",
    "# # case_vitals = case_vitals.fillna(case_vitals.median())\n",
    "# case_vitals.columns = ['_'.join(col) for col in case_vitals.columns]\n",
    "\n",
    "# case_all = case_static.merge(case_labs, on='subject_id').merge(case_vitals, on='subject_id')\n",
    "\n",
    "\n",
    "# control_labs = control_labs.drop(columns=['chart_time', 'icustay_id', 'control_onset_time', 'hr_feature'])\n",
    "# apply_dict = {col: ['mean', 'median', 'std'] for col in control_labs.columns if col != 'subject_id'}\n",
    "# control_labs = control_labs.groupby('subject_id').agg(apply_dict)\n",
    "# # control_labs = control_labs.fillna(control_labs.median())\n",
    "# control_labs.columns = ['_'.join(col) for col in control_labs.columns]\n",
    "\n",
    "# control_static = control_static[['gender', 'ethnicity', 'admission_age', 'subject_id']]\n",
    "# control_static['label'] = 0\n",
    "# control_static = race_recode(control_static)\n",
    "# control_static['ethnicity'] = LabelEncoder().fit_transform(control_static['ethnicity'])\n",
    "# control_static['gender'] = LabelEncoder().fit_transform(control_static['gender'])\n",
    "\n",
    "# control_vitals = control_vitals.drop(columns=['chart_time', 'icustay_id', 'control_onset_time', 'hr_feature'])\n",
    "# apply_dict = {col: ['mean', 'median', 'std'] for col in control_vitals.columns if col != 'subject_id'}\n",
    "# control_vitals = control_vitals.groupby('subject_id').agg(apply_dict)\n",
    "# # control_vitals = control_vitals.fillna(control_vitals.median())\n",
    "# control_vitals.columns = ['_'.join(col) for col in control_vitals.columns]\n",
    "\n",
    "# control_all = control_static.merge(control_labs, on='subject_id').merge(control_vitals, on='subject_id')\n",
    "\n",
    "\n",
    "# case_control_all = pd.concat((case_all, control_all), ignore_index=True).sample(frac=1).reset_index(drop=True)\n",
    "\n",
    "# cols_delete = [x for x in case_control_all.columns if x in ['subject_id', 'label', 'icustay_id'] or x.startswith('Unnamed')]\n",
    "# X, y = case_control_all.drop(columns=cols_delete), case_control_all.label"
   ]
  },
  {
   "cell_type": "markdown",
   "metadata": {},
   "source": [
    "## Train-test split"
   ]
  },
  {
   "cell_type": "code",
   "execution_count": null,
   "metadata": {},
   "outputs": [],
   "source": [
    "# X_train, X_test, y_train, y_test = train_test_split(X, y, random_state=42, stratify=y, test_size=TEST_SIZE)\n",
    "\n",
    "# X_train = MinMaxScaler().fit_transform(X_train)\n",
    "# X_test = MinMaxScaler().fit_transform(X_test)\n",
    "\n",
    "# print(f\"Number of features included: {X.shape[1]}\")\n",
    "# print(f\"Number of observations: {X.shape[0]}\")\n",
    "# print(y.value_counts())"
   ]
  },
  {
   "cell_type": "code",
   "execution_count": 20,
   "metadata": {},
   "outputs": [
    {
     "name": "stdout",
     "output_type": "stream",
     "text": [
      "Train/Test data size: 4885/543\n"
     ]
    }
   ],
   "source": [
    "df_train, df_test = model_data('LGBM', path = DATA_DIR, test_size=0.1)\n",
    "\n",
    "X_train, y_train = df_train.drop(columns=['label', 'icustay_id']), df_train['label'].values\n",
    "X_test, y_test = df_test.drop(columns=['label', 'icustay_id']), df_test['label'].values\n",
    "\n",
    "sc = MinMaxScaler()\n",
    "X_train = sc.fit_transform(X_train)\n",
    "X_test = sc.transform(X_test)"
   ]
  },
  {
   "cell_type": "code",
   "execution_count": 21,
   "metadata": {},
   "outputs": [
    {
     "name": "stdout",
     "output_type": "stream",
     "text": [
      "Number of features included: 273\n",
      "Number of observations: 5428\n",
      "0    4798\n",
      "1     630\n",
      "Name: label, dtype: int64\n"
     ]
    }
   ],
   "source": [
    "print(f\"Number of features included: {df_train.shape[1]}\")\n",
    "print(f\"Number of observations: {df_train.shape[0] + df_test.shape[0]}\")\n",
    "print(pd.concat((df_train, df_test))['label'].value_counts())"
   ]
  },
  {
   "cell_type": "markdown",
   "metadata": {},
   "source": [
    "## Lightgbm CV"
   ]
  },
  {
   "cell_type": "code",
   "execution_count": null,
   "metadata": {},
   "outputs": [],
   "source": [
    "# def lgb_f1_score(y_hat, data):\n",
    "#     y_true = data.get_label()\n",
    "#     y_hat = np.round(y_hat) # scikits f1 doesn't like probabilities\n",
    "#     return 'f1', f1_score(y_true, y_hat), True"
   ]
  },
  {
   "cell_type": "code",
   "execution_count": 24,
   "metadata": {},
   "outputs": [],
   "source": [
    "lgbm_param = {\n",
    "    # 'model': {\n",
    "        'num_leaves': scope.int(hp.quniform('num_leaves', 2, 21, 1)), # hp.choice('num_leaves', np.arange(2, 21)),\n",
    "        'learning_rate': hp.uniform('learning_rate', 0.005, 0.2),\n",
    "        'colsample_bytree': hp.uniform('feature_fraction', 0.1, 1.0),\n",
    "        'max_depth': scope.int(hp.quniform('max_depth', 2, 11, 1)), #hp.choice('max_depth', np.arange(2, 11)),\n",
    "        'objective': 'binary',    \n",
    "        'verbose': -1,    \n",
    "        'metric': 'auc'\n",
    "    # },\n",
    "    # 'pos_weight': scope.int(hp.quniform('pos_weight', 1, 11, 1)),\n",
    "\n",
    "        # 'boosting_type': 'dart',\n",
    "        # 'metric': 'logloss',\n",
    "        # \n",
    "        # 'device_type': 'gpu'\n",
    "}\n",
    "\n",
    "def f_lgbm(params):\n",
    "    tr_data = lgbm.Dataset(X_train, y_train)\n",
    "    res = lgbm.cv(\n",
    "        params, \n",
    "        tr_data, \n",
    "        num_boost_round=1000, \n",
    "        early_stopping_rounds=100, \n",
    "        seed=SEED, \n",
    "        return_cvbooster=True,\n",
    "    )\n",
    "    # skf = StratifiedKFold(n_splits=5, random_state=SEED, shuffle=True)\n",
    "    # score = 0\n",
    "    # boosters = []\n",
    "    # for i, (tr_idx, val_idx) in enumerate(skf.split(X_train, y_train)):\n",
    "    #     model = lgbm.LGBMClassifier(\n",
    "    #         **params['model'], \n",
    "    #         num_iterations=1000,\n",
    "    #         early_stopping_round=100,\n",
    "    #         class_weight = {0:1, 1:params['pos_weight']},\n",
    "    #         verbose = -1\n",
    "    #     )\n",
    "    #     model.fit(\n",
    "    #         X_train[tr_idx], y_train[tr_idx], \n",
    "    #         eval_set=(X_train[val_idx], y_train[val_idx]), \n",
    "    #         eval_metric='auc',\n",
    "    #         verbose = -1\n",
    "    #     )\n",
    "    #     preds = model.predict_proba(X_train[val_idx])[:, 1]\n",
    "    #     score += roc_auc_score(y_train[val_idx], preds) / 5\n",
    "    #     boosters.append(model)\n",
    "\n",
    "    return {\n",
    "        # 'loss': -round(score, 5), \n",
    "        'loss': -np.mean(res['auc-mean']).round(5), \n",
    "        'status': STATUS_OK,\n",
    "        'boosters': res['cvbooster'].boosters, \n",
    "        'auc-mean': res['auc-mean'],\n",
    "        'auc-std': res['auc-stdv']\n",
    "    }"
   ]
  },
  {
   "cell_type": "code",
   "execution_count": 25,
   "metadata": {},
   "outputs": [
    {
     "name": "stdout",
     "output_type": "stream",
     "text": [
      "100%|██████████| 50/50 [00:43<00:00,  1.14trial/s, best loss: -0.77971]\n"
     ]
    }
   ],
   "source": [
    "trials = Trials()\n",
    "lgbm_best = fmin(f_lgbm, lgbm_param, algo=tpe.suggest, max_evals=MAX_EVAL, trials=trials, rstate=np.random.RandomState(SEED))"
   ]
  },
  {
   "cell_type": "code",
   "execution_count": 27,
   "metadata": {},
   "outputs": [
    {
     "data": {
      "text/plain": [
       "{'feature_fraction': 0.18940999651825166,\n",
       " 'learning_rate': 0.005433184320149005,\n",
       " 'max_depth': 6.0,\n",
       " 'num_leaves': 20.0}"
      ]
     },
     "execution_count": 27,
     "metadata": {},
     "output_type": "execute_result"
    }
   ],
   "source": [
    "lgbm_best"
   ]
  },
  {
   "cell_type": "markdown",
   "metadata": {},
   "source": [
    "## Test data prediction\n",
    "\n",
    "<!-- 20% test data\n",
    "- validation set = 0.763\n",
    "- test set = 0.734\n",
    "\n",
    "10% test data\n",
    "- validation set = 0.774\n",
    "- test set = 0.759 -->"
   ]
  },
  {
   "cell_type": "code",
   "execution_count": 7,
   "metadata": {},
   "outputs": [
    {
     "name": "stdout",
     "output_type": "stream",
     "text": [
      "Test AUC: 0.81475\n"
     ]
    }
   ],
   "source": [
    "preds = np.zeros_like(y_test, dtype=np.float32)\n",
    "for booster in trials.best_trial['result']['boosters']:\n",
    "    preds += booster.predict(X_test) / 5\n",
    "print(f\"Test AUC: {roc_auc_score(y_test, preds):.5f}\")"
   ]
  },
  {
   "cell_type": "markdown",
   "metadata": {},
   "source": [
    "## Training AUC Curve"
   ]
  },
  {
   "cell_type": "code",
   "execution_count": 13,
   "metadata": {},
   "outputs": [
    {
     "data": {
      "image/png": "[encoded data removed]",
      "text/plain": [
       "<Figure size 432x288 with 1 Axes>"
      ]
     },
     "metadata": {
      "needs_background": "light"
     },
     "output_type": "display_data"
    }
   ],
   "source": [
    "train_auc_df = pd.DataFrame(dict(auc =trials.best_trial['result']['auc-mean'], std=trials.best_trial['result']['auc-std']))\n",
    "train_auc_df['auc_l'] = train_auc_df['auc'] - 1.96 * train_auc_df['std']\n",
    "train_auc_df['auc_h'] = train_auc_df['auc'] + 1.96 * train_auc_df['std']\n",
    "\n",
    "plt.plot(train_auc_df['auc'], 'k-', label='Mean auc')\n",
    "plt.plot(train_auc_df['auc_l'], '--', color='gray', label='95% CI bound')\n",
    "plt.plot(train_auc_df['auc_h'], '--', color='gray')\n",
    "plt.xlabel('Boosting Round')\n",
    "plt.ylabel('AUC')\n",
    "plt.legend()\n",
    "# plt.title('AUC Curve on 5-fold cross validation lightgbm model')\n",
    "plt.savefig('lightgbm-auc.jpg')"
   ]
  },
  {
   "cell_type": "markdown",
   "metadata": {},
   "source": [
    "## Feature importance"
   ]
  },
  {
   "cell_type": "code",
   "execution_count": 9,
   "metadata": {},
   "outputs": [],
   "source": [
    "# dir(res['cvbooster'])\n",
    "feature_imp = np.zeros((X_train.shape[1]))\n",
    "for i, booster in enumerate(trials.best_trial['result']['boosters']):\n",
    "    feature_imp += booster.feature_importance() / 5\n",
    "    booster.save_model(f'output/lgbm_fold{i}.txt')\n",
    "    "
   ]
  },
  {
   "cell_type": "code",
   "execution_count": 10,
   "metadata": {},
   "outputs": [
    {
     "data": {
      "text/html": [
       "<div>\n",
       "<style scoped>\n",
       "    .dataframe tbody tr th:only-of-type {\n",
       "        vertical-align: middle;\n",
       "    }\n",
       "\n",
       "    .dataframe tbody tr th {\n",
       "        vertical-align: top;\n",
       "    }\n",
       "\n",
       "    .dataframe thead th {\n",
       "        text-align: right;\n",
       "    }\n",
       "</style>\n",
       "<table border=\"1\" class=\"dataframe\">\n",
       "  <thead>\n",
       "    <tr style=\"text-align: right;\">\n",
       "      <th></th>\n",
       "      <th>features</th>\n",
       "      <th>feature_importance</th>\n",
       "    </tr>\n",
       "  </thead>\n",
       "  <tbody>\n",
       "    <tr>\n",
       "      <th>0</th>\n",
       "      <td>MeanBP_count</td>\n",
       "      <td>144.8</td>\n",
       "    </tr>\n",
       "    <tr>\n",
       "      <th>1</th>\n",
       "      <td>DiaBP_max</td>\n",
       "      <td>143.2</td>\n",
       "    </tr>\n",
       "    <tr>\n",
       "      <th>2</th>\n",
       "      <td>PLATELET_min</td>\n",
       "      <td>141.8</td>\n",
       "    </tr>\n",
       "    <tr>\n",
       "      <th>3</th>\n",
       "      <td>RespRate_count</td>\n",
       "      <td>141.4</td>\n",
       "    </tr>\n",
       "    <tr>\n",
       "      <th>4</th>\n",
       "      <td>TempC_std</td>\n",
       "      <td>136.6</td>\n",
       "    </tr>\n",
       "    <tr>\n",
       "      <th>5</th>\n",
       "      <td>MeanBP_min</td>\n",
       "      <td>132.6</td>\n",
       "    </tr>\n",
       "    <tr>\n",
       "      <th>6</th>\n",
       "      <td>SysBP_count</td>\n",
       "      <td>123.8</td>\n",
       "    </tr>\n",
       "    <tr>\n",
       "      <th>7</th>\n",
       "      <td>CREATININE_mean</td>\n",
       "      <td>123.6</td>\n",
       "    </tr>\n",
       "    <tr>\n",
       "      <th>8</th>\n",
       "      <td>HeartRate_count</td>\n",
       "      <td>119.2</td>\n",
       "    </tr>\n",
       "    <tr>\n",
       "      <th>9</th>\n",
       "      <td>PLATELET_mean</td>\n",
       "      <td>114.4</td>\n",
       "    </tr>\n",
       "  </tbody>\n",
       "</table>\n",
       "</div>"
      ],
      "text/plain": [
       "          features  feature_importance\n",
       "0     MeanBP_count               144.8\n",
       "1        DiaBP_max               143.2\n",
       "2     PLATELET_min               141.8\n",
       "3   RespRate_count               141.4\n",
       "4        TempC_std               136.6\n",
       "5       MeanBP_min               132.6\n",
       "6      SysBP_count               123.8\n",
       "7  CREATININE_mean               123.6\n",
       "8  HeartRate_count               119.2\n",
       "9    PLATELET_mean               114.4"
      ]
     },
     "execution_count": 10,
     "metadata": {},
     "output_type": "execute_result"
    }
   ],
   "source": [
    "feature_imp = pd.DataFrame(dict(features = df_train.drop(columns=['label', 'icustay_id']).columns, feature_importance = feature_imp)). \\\n",
    "    sort_values('feature_importance', ascending=False, ignore_index=True).head(10)\n",
    "feature_imp.to_latex('feature_imp.tex', index=False)\n",
    "feature_imp"
   ]
  },
  {
   "cell_type": "markdown",
   "metadata": {},
   "source": [
    "## Classification metrics and plots"
   ]
  },
  {
   "cell_type": "code",
   "execution_count": 11,
   "metadata": {},
   "outputs": [
    {
     "name": "stdout",
     "output_type": "stream",
     "text": [
      "______________________________________________\n",
      "Classifier: LightGBM\n",
      "Accuracy:  0.8895\n",
      "AUC:  0.8147\n",
      "AUPRC:  0.4530\n",
      "Precision:  1.0000\n",
      "Recall:  0.0476\n",
      "F1-score:  0.0909\n",
      "______________________________________________\n",
      "\n"
     ]
    }
   ],
   "source": [
    "classification_metrics(\"LightGBM\", y_test, preds)\n"
   ]
  },
  {
   "cell_type": "code",
   "execution_count": 1,
   "metadata": {},
   "outputs": [],
   "source": [
    "from Python.utils import plot_roc_prc"
   ]
  },
  {
   "cell_type": "code",
   "execution_count": 2,
   "metadata": {},
   "outputs": [
    {
     "data": {
      "text/plain": [
       "<Figure size 3000x1000 with 0 Axes>"
      ]
     },
     "metadata": {},
     "output_type": "display_data"
    }
   ],
   "source": [
    "plot_roc_prc(\"output/LightGBM_roc_prc.png\", prcfile=\"output/LightGBM_prc.csv\", rocfile=\"output/LightGBM_roc.csv\")\n"
   ]
  },
  {
   "cell_type": "code",
   "execution_count": 16,
   "metadata": {},
   "outputs": [
    {
     "data": {
      "text/plain": [
       "(-0.5, 1999.5, 999.5, -0.5)"
      ]
     },
     "execution_count": 16,
     "metadata": {},
     "output_type": "execute_result"
    },
    {
     "data": {
      "text/plain": [
       "<Figure size 2000x1000 with 0 Axes>"
      ]
     },
     "metadata": {},
     "output_type": "display_data"
    },
    {
     "data": {
      "image/png": "[encoded data removed]",
      "text/plain": [
       "<Figure size 1000x2000 with 1 Axes>"
      ]
     },
     "metadata": {},
     "output_type": "display_data"
    }
   ],
   "source": [
    "plot_roc_prc(\"output/LightGBM_roc_prc.png\", prcfile=\"output/LightGBM_prc.csv\", rocfile=\"output/LightGBM_roc.csv\")\n",
    "img = mpimg.imread('output/LightGBM_roc_prc.png')\n",
    "plt.figure(figsize=(10, 20))\n",
    "plt.imshow(img)\n",
    "plt.axis('off')"
   ]
  }
 ],
 "metadata": {
  "colab": {
   "name": "Sepsis_Project.ipynb",
   "provenance": []
  },
  "interpreter": {
   "hash": "26d09d966689d997d4eaab7bca7acf4e7eaa0a1cb97240df721a5c838a5358e7"
  },
  "kernelspec": {
   "display_name": "Python 3.8.6 64-bit ('myenv': conda)",
   "name": "python3"
  },
  "language_info": {
   "codemirror_mode": {
    "name": "ipython",
    "version": 3
   },
   "file_extension": ".py",
   "mimetype": "text/x-python",
   "name": "python",
   "nbconvert_exporter": "python",
   "pygments_lexer": "ipython3",
   "version": "3.8.6"
  }
 },
 "nbformat": 4,
 "nbformat_minor": 0
}
